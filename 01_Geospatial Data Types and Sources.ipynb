{
 "cells": [
  {
   "cell_type": "markdown",
   "metadata": {},
   "source": [
    "## Types of GeoSpatial Data\n",
    "\n",
    "![](./support/gislayers.jpg)\n",
    "\n",
    "Geospatial data typically comes in either _raster_ or _vector_ form.\n",
    "\n",
    "### Vector Data\n",
    "\n",
    "Vector data is made up of points and verticies, which can be assembled as _points_, _lines_, _paths_, or _polygons_.\n",
    "\n",
    "#### Common vector data\n",
    "\n",
    "* Points of interest\n",
    "* Street networks\n",
    "* Boundaries (Country border, city limits, census district)\n",
    "* Turn-by-turn directions\n",
    "* Travel history\n",
    "\n",
    "#### Common vector data formats\n",
    "\n",
    "* Shapefiles\n",
    "* GeoJSON\n",
    "* Keyhole Markup Language (Google Earth/Google Maps)\n",
    "\n",
    "\n",
    "### Raster data\n",
    "\n",
    "Raster data are values stored in a discrete grid (often squares or _pixels_).\n",
    "\n",
    "#### Common raster data\n",
    "\n",
    "* Aerial Imagery\n",
    "* Satellite Imagery\n",
    "* Elevation Data\n",
    "\n",
    "#### Common raster data formats\n",
    "\n",
    "* ASCII\n",
    "* GeoTIFF\n",
    "* JPEG\n",
    "* MrSID\n",
    "* HDF5\n"
   ]
  },
  {
   "cell_type": "markdown",
   "metadata": {},
   "source": [
    "## Places to Get Data\n",
    "\n",
    "* https://earthexplorer.usgs.gov/\n",
    "  * A great way to look at many available datasets including NASAs\n",
    "* https://www.huntsvilleal.gov/development/building-construction/gis/\n",
    "  * Huntsville specific GIS data about the city and county.\n",
    "* https://www.census.gov/developers/\n",
    "  * United States Census Data\n",
    "* https://earthdata.nasa.gov/about/science-system-description/eosdis-components/global-imagery-browse-services-gibs\n",
    "* https://worldview.earthdata.nasa.gov/\n",
    "* https://science.nasa.gov/earth-science/earth-science-data\n",
    "* https://svs.gsfc.nasa.gov/\n",
    "  * NASA Scientific Visualiztion Studio\n"
   ]
  }
 ],
 "metadata": {
  "kernelspec": {
   "display_name": "Python 3",
   "language": "python",
   "name": "python3"
  },
  "language_info": {
   "codemirror_mode": {
    "name": "ipython",
    "version": 3
   },
   "file_extension": ".py",
   "mimetype": "text/x-python",
   "name": "python",
   "nbconvert_exporter": "python",
   "pygments_lexer": "ipython3",
   "version": "3.6.6"
  }
 },
 "nbformat": 4,
 "nbformat_minor": 2
}
